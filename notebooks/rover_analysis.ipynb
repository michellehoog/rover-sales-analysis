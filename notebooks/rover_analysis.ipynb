{
 "cells": [
  {
   "cell_type": "code",
   "execution_count": 146,
   "metadata": {},
   "outputs": [],
   "source": [
    "import pandas as pd\n",
    "import numpy as np\n",
    "import seaborn as sns\n",
    "import matplotlib.pyplot as plt\n",
    "from datetime import datetime\n",
    "from statsmodels.stats.weightstats import ttest_ind\n",
    "from statsmodels.stats.proportion import proportions_ztest\n",
    "from pandas.plotting import register_matplotlib_converters"
   ]
  },
  {
   "cell_type": "code",
   "execution_count": 6,
   "metadata": {},
   "outputs": [
    {
     "name": "stdout",
     "output_type": "stream",
     "text": [
      "conversations_conversation.csv\t     people_person.csv\r\n",
      "conversations_conversation_pets.csv  people_testsegmentation.csv\r\n",
      "conversations_message.csv\t     pets_pet.csv\r\n",
      "conversations_review.csv\t     services_service.csv\r\n"
     ]
    }
   ],
   "source": [
    "! ls ../data"
   ]
  },
  {
   "cell_type": "code",
   "execution_count": 12,
   "metadata": {},
   "outputs": [
    {
     "name": "stdout",
     "output_type": "stream",
     "text": [
      "   id  start_date    end_date  units                       added  \\\n",
      "0   1  2018-07-26  2018-07-31      5  2018-07-16 10:17:53.460035   \n",
      "1   2  2018-08-10  2018-08-16      6  2018-08-01 10:20:48.626868   \n",
      "2   3  2018-06-16  2018-06-19      3  2018-06-05 16:46:39.542467   \n",
      "3   4  2018-07-13  2018-07-20      7  2018-07-02 09:12:22.275923   \n",
      "4   5  2018-07-02  2018-07-07      5  2018-06-21 16:02:48.694725   \n",
      "\n",
      "   booking_total cancellation_fault  requester_id  service_id booked_at  \\\n",
      "0            120                NaN         64393        4646       NaN   \n",
      "1            132                NaN         64392       10126       NaN   \n",
      "2            168                NaN         64391       20677       NaN   \n",
      "3            490                NaN         64391        3847       NaN   \n",
      "4            140                NaN         64389        9982       NaN   \n",
      "\n",
      "  cancelled_at  \n",
      "0          NaN  \n",
      "1          NaN  \n",
      "2          NaN  \n",
      "3          NaN  \n",
      "4          NaN  \n",
      "<class 'pandas.core.frame.DataFrame'>\n",
      "RangeIndex: 80180 entries, 0 to 80179\n",
      "Data columns (total 11 columns):\n",
      "id                    80180 non-null int64\n",
      "start_date            80180 non-null object\n",
      "end_date              80180 non-null object\n",
      "units                 80180 non-null int64\n",
      "added                 80180 non-null object\n",
      "booking_total         80180 non-null int64\n",
      "cancellation_fault    3373 non-null object\n",
      "requester_id          80180 non-null int64\n",
      "service_id            80180 non-null int64\n",
      "booked_at             33466 non-null object\n",
      "cancelled_at          3373 non-null object\n",
      "dtypes: int64(5), object(6)\n",
      "memory usage: 6.7+ MB\n",
      "None\n",
      "   id  conversation_id  pet_id\n",
      "0   1                1   77730\n",
      "1   2                2   77729\n",
      "2   3                3   77728\n",
      "3   4                3   77727\n",
      "4   5                4   77728\n",
      "<class 'pandas.core.frame.DataFrame'>\n",
      "RangeIndex: 120188 entries, 0 to 120187\n",
      "Data columns (total 3 columns):\n",
      "id                 120188 non-null int64\n",
      "conversation_id    120188 non-null int64\n",
      "pet_id             120188 non-null int64\n",
      "dtypes: int64(3)\n",
      "memory usage: 2.8 MB\n",
      "None\n",
      "   id                        sent  \\\n",
      "0   1  2018-07-16 10:17:53.460035   \n",
      "1   2  2018-07-28 16:53:53.927200   \n",
      "2   3  2018-07-16 23:55:22.904038   \n",
      "3   4  2018-07-23 10:05:49.829926   \n",
      "4   5  2018-08-01 10:20:48.626868   \n",
      "\n",
      "                                             content  conversation_id  \\\n",
      "0                                       Massa class.                1   \n",
      "1                    Porta lorem ornare condimentum.                1   \n",
      "2          Neque curae rutrum elit conubia metus in.                1   \n",
      "3  Donec etiam gravida luctus tellus phasellus ri...                1   \n",
      "4      Risus class dui leo sem dui sed sollicitudin.                2   \n",
      "\n",
      "   sender_id  \n",
      "0      64393  \n",
      "1       2709  \n",
      "2       2709  \n",
      "3       2709  \n",
      "4      64392  \n",
      "<class 'pandas.core.frame.DataFrame'>\n",
      "RangeIndex: 401211 entries, 0 to 401210\n",
      "Data columns (total 5 columns):\n",
      "id                 401211 non-null int64\n",
      "sent               401211 non-null object\n",
      "content            401211 non-null object\n",
      "conversation_id    401211 non-null int64\n",
      "sender_id          401211 non-null int64\n",
      "dtypes: int64(3), object(2)\n",
      "memory usage: 15.3+ MB\n",
      "None\n",
      "   id                                            content  stars  \\\n",
      "0   1          Netus proin per duis dolor venenatis nam.      1   \n",
      "1   2  Dolor proin donec phasellus ve suspendisse ac ...      5   \n",
      "2   3  Proin ipsum urna nisl egestas justo class a ar...      5   \n",
      "3   4  Porta velit lectus varius donec tellus sollici...      1   \n",
      "4   5                                       Dolor felis.      2   \n",
      "\n",
      "   conversation_id  reviewer_id  \n",
      "0                7        64386  \n",
      "1                9        64384  \n",
      "2               11        64382  \n",
      "3               13        64381  \n",
      "4               15        64379  \n",
      "<class 'pandas.core.frame.DataFrame'>\n",
      "RangeIndex: 28561 entries, 0 to 28560\n",
      "Data columns (total 5 columns):\n",
      "id                 28561 non-null int64\n",
      "content            28561 non-null object\n",
      "stars              28561 non-null int64\n",
      "conversation_id    28561 non-null int64\n",
      "reviewer_id        28561 non-null int64\n",
      "dtypes: int64(4), object(1)\n",
      "memory usage: 1.1+ MB\n",
      "None\n",
      "   id first_name last_name                           email channel  \\\n",
      "0   1    Leanora   Allcock  leanora.allcock635@hotmail.com     NaN   \n",
      "1   2      Elroy  Blanding     elroy.blanding510@yahoo.com     NaN   \n",
      "2   3    Jeanice    Aleman   jeanice.aleman392@hotmail.com     NaN   \n",
      "3   4     Tamala  Polhamus      tamala.polhamus146@aol.com     NaN   \n",
      "4   5    Alethea    Gubler       alethea.gubler708@aol.com     NaN   \n",
      "\n",
      "                  date_joined                            photo  fee gender  \n",
      "0  2016-08-02 14:59:15.095591  https://placekitten.com/242/269  0.0      f  \n",
      "1  2016-08-02 18:15:30.105940  https://placekitten.com/373/320  0.0      m  \n",
      "2  2016-08-02 16:11:09.542004  https://placekitten.com/238/264  0.0      f  \n",
      "3  2016-08-02 18:02:40.389299  https://placekitten.com/220/223  0.0      f  \n",
      "4  2016-08-02 14:31:53.163034  https://placekitten.com/284/339  0.0      f  \n",
      "<class 'pandas.core.frame.DataFrame'>\n",
      "RangeIndex: 64393 entries, 0 to 64392\n",
      "Data columns (total 9 columns):\n",
      "id             64393 non-null int64\n",
      "first_name     64393 non-null object\n",
      "last_name      64393 non-null object\n",
      "email          64393 non-null object\n",
      "channel        51655 non-null object\n",
      "date_joined    64393 non-null object\n",
      "photo          64393 non-null object\n",
      "fee            64393 non-null float64\n",
      "gender         64393 non-null object\n",
      "dtypes: float64(1), int64(1), object(7)\n",
      "memory usage: 4.4+ MB\n",
      "None\n",
      "   id   test_name test_group                       added  person_id\n",
      "0   1  Email Test    holdout  2016-08-02 14:59:15.095591          1\n",
      "1   2  Email Test    variant  2016-08-02 18:15:30.105940          2\n",
      "2   3  Email Test    holdout  2016-08-02 16:11:09.542004          3\n",
      "3   4  Email Test    holdout  2016-08-02 18:02:40.389299          4\n",
      "4   5  Email Test    holdout  2016-08-02 14:31:53.163034          5\n",
      "<class 'pandas.core.frame.DataFrame'>\n",
      "RangeIndex: 87778 entries, 0 to 87777\n",
      "Data columns (total 5 columns):\n",
      "id            87778 non-null int64\n",
      "test_name     87778 non-null object\n",
      "test_group    87778 non-null object\n",
      "added         87778 non-null object\n",
      "person_id     87778 non-null int64\n",
      "dtypes: int64(2), object(3)\n",
      "memory usage: 3.3+ MB\n",
      "None\n",
      "   id    name                                  description gender  weight  \\\n",
      "0   1  Jammie  Morbi fames a mauris elit malesuada platea.      f      76   \n",
      "1   2  Lonnie         Class magna a libero felis sociosqu.      f      12   \n",
      "2   3   Emely                                 Felis class.      m      11   \n",
      "3   4  Emelia    Fames class egestas mollis risus posuere.      f      35   \n",
      "4   5    Jami                   Netus augue a congue orci.      m      35   \n",
      "\n",
      "     birthday  plays_cats  plays_children  plays_dogs  spayed_neutered  \\\n",
      "0  2016-05-26           1               1           1                1   \n",
      "1  2014-05-20           0               1           1                1   \n",
      "2  2014-08-21           0               1           1                1   \n",
      "3  2013-09-23           1               1           1                0   \n",
      "4  2014-05-13           0               1           1                1   \n",
      "\n",
      "   house_trained    size  owner_id  \n",
      "0              1   large     12601  \n",
      "1              0   small     12602  \n",
      "2              0   small     12602  \n",
      "3              0  medium     12603  \n",
      "4              1  medium     12603  \n",
      "<class 'pandas.core.frame.DataFrame'>\n",
      "RangeIndex: 77730 entries, 0 to 77729\n",
      "Data columns (total 13 columns):\n",
      "id                 77730 non-null int64\n",
      "name               77730 non-null object\n",
      "description        77730 non-null object\n",
      "gender             77730 non-null object\n",
      "weight             77730 non-null int64\n",
      "birthday           77730 non-null object\n",
      "plays_cats         77730 non-null int64\n",
      "plays_children     77730 non-null int64\n",
      "plays_dogs         77730 non-null int64\n",
      "spayed_neutered    77730 non-null int64\n",
      "house_trained      77730 non-null int64\n",
      "size               77730 non-null object\n",
      "owner_id           77730 non-null int64\n",
      "dtypes: int64(8), object(5)\n",
      "memory usage: 7.7+ MB\n",
      "None\n",
      "   id service_type cancellation_policy  can_provide_oral_medication  \\\n",
      "0   1     boarding              strict                            1   \n",
      "1   2  dog-walking              strict                            1   \n",
      "2   3     boarding            moderate                            0   \n",
      "3   4  dog-walking              strict                            1   \n",
      "4   5     day-care              strict                            1   \n",
      "\n",
      "   can_provide_injected_medication  senior_dog_experience  \\\n",
      "0                                1                      1   \n",
      "1                                0                      1   \n",
      "2                                0                      1   \n",
      "3                                0                      1   \n",
      "4                                0                      1   \n",
      "\n",
      "   special_needs_experience  takes_small_dogs  takes_medium_dogs  \\\n",
      "0                         1                 0                  1   \n",
      "1                         1                 0                  0   \n",
      "2                         0                 0                  0   \n",
      "3                         0                 1                  0   \n",
      "4                         1                 0                  1   \n",
      "\n",
      "   takes_large_dogs  takes_puppies  max_dogs  provider_id   fee  price  \\\n",
      "0                 1              1         4            1  0.15     35   \n",
      "1                 1              1         5            1  0.15     26   \n",
      "2                 1              1         2            2  0.15     31   \n",
      "3                 0              1         5            2  0.15     27   \n",
      "4                 1              1         5            2  0.15     30   \n",
      "\n",
      "                        added  \n",
      "0  2016-08-02 14:59:15.095591  \n",
      "1  2016-08-02 14:59:15.095591  \n",
      "2  2016-08-02 18:15:30.105940  \n",
      "3  2016-08-02 18:15:30.105940  \n",
      "4  2016-08-02 18:15:30.105940  \n",
      "<class 'pandas.core.frame.DataFrame'>\n",
      "RangeIndex: 21398 entries, 0 to 21397\n",
      "Data columns (total 16 columns):\n",
      "id                                 21398 non-null int64\n",
      "service_type                       21398 non-null object\n",
      "cancellation_policy                21398 non-null object\n",
      "can_provide_oral_medication        21398 non-null int64\n",
      "can_provide_injected_medication    21398 non-null int64\n",
      "senior_dog_experience              21398 non-null int64\n",
      "special_needs_experience           21398 non-null int64\n",
      "takes_small_dogs                   21398 non-null int64\n",
      "takes_medium_dogs                  21398 non-null int64\n",
      "takes_large_dogs                   21398 non-null int64\n",
      "takes_puppies                      21398 non-null int64\n",
      "max_dogs                           21398 non-null int64\n",
      "provider_id                        21398 non-null int64\n",
      "fee                                21398 non-null float64\n",
      "price                              21398 non-null int64\n",
      "added                              21398 non-null object\n",
      "dtypes: float64(1), int64(12), object(3)\n",
      "memory usage: 2.6+ MB\n",
      "None\n"
     ]
    }
   ],
   "source": [
    "# get data\n",
    "conversation = pd.read_csv(\"../data/conversations_conversation.csv\")\n",
    "conversation_pets = pd.read_csv(\"../data/conversations_conversation_pets.csv\")\n",
    "conversation_message = pd.read_csv(\"../data/conversations_message.csv\")\n",
    "conversation_review = pd.read_csv(\"../data/conversations_review.csv\")\n",
    "person = pd.read_csv(\"../data/people_person.csv\")\n",
    "testsegment = pd.read_csv(\"../data/people_testsegmentation.csv\")\n",
    "pet = pd.read_csv(\"../data/pets_pet.csv\")\n",
    "service = pd.read_csv(\"../data/services_service.csv\")\n",
    "\n",
    "data = [conversation, conversation_pets, conversation_message, conversation_review, person, testsegment, pet, service]\n",
    "\n",
    "for d in data:\n",
    "    print(d.head())\n",
    "    print(d.info())"
   ]
  },
  {
   "cell_type": "markdown",
   "metadata": {},
   "source": [
    "## 1. Exploring the database\n",
    "\n",
    "* how many users\n",
    "* how many users prior to 2018-02-03?\n",
    "* what percentage of users have pets?\n",
    "* of those users, how many have they added on average?\n",
    "* what percentage of pets play well with cats?"
   ]
  },
  {
   "cell_type": "code",
   "execution_count": 53,
   "metadata": {},
   "outputs": [
    {
     "name": "stdout",
     "output_type": "stream",
     "text": [
      " There are 64393 users, of which 35826 joined before 2018-02-03.\n",
      "80.43% of users have pets\n",
      "There are 1.5 pets per user\n",
      "24.85 percent of pets play well with cats\n"
     ]
    }
   ],
   "source": [
    "num_people = person.id.nunique()\n",
    "mask = person.date_joined < '2018-02-03'\n",
    "num_pets = pet.id.nunique()\n",
    "num_people_w_pets = pet.owner_id.nunique()\n",
    "num_pets_liking_cats = sum(pet.plays_cats)\n",
    "\n",
    "#users\n",
    "print(f\" There are {num_people} users, of which {person[mask]['id'].nunique()} joined before 2018-02-03.\")\n",
    "\n",
    "# percentage of users with pets\n",
    "print(f\"{round((num_people_w_pets/num_people)*100, 2)}% of users have pets\")\n",
    "\n",
    "#ave number of pets per user\n",
    "print(f\"There are {round(num_pets/num_people_w_pets, 2)} pets per user\")\n",
    "\n",
    "#%pets that play well with cats\n",
    "print(f\"{(round((num_pets_liking_cats/num_pets)*100, 2))} percent of pets play well with cats\")"
   ]
  },
  {
   "cell_type": "markdown",
   "metadata": {},
   "source": [
    "## 2. Conversations and bookings\n",
    "1. z-test of proportions to see whether owner or provider are more likely to leave review\n",
    "2. t-test(?) on reviews: do owners or providers leave better reviews?"
   ]
  },
  {
   "cell_type": "markdown",
   "metadata": {},
   "source": [
    "## 3. Booking trend\n",
    "We'll address the following instructions:\n",
    "- Reproduce the graph of daily booking rate (% of conversations created each day that result in booking)\n",
    "- What is daily booking rate for each of the 90 days prior to 2018-08-02?\n",
    "- Interpret the trend for daily booking rate"
   ]
  },
  {
   "cell_type": "code",
   "execution_count": 144,
   "metadata": {},
   "outputs": [
    {
     "name": "stdout",
     "output_type": "stream",
     "text": [
      "Percentage of conversations leading to a booking: 41.739\n"
     ]
    }
   ],
   "source": [
    "# conversation.added is date of conversation start\n",
    "# conversation.booked_at gives timestamp if booked\n",
    "\n",
    "# aggregate by day, calculate percentage booked of total\n",
    "def percentage_booked(conversation):\n",
    "    booking_ratio = len(conversation[conversation.booked_at.notnull()])/len(conversation)\n",
    "    return round(booking_ratio*100, 3)\n",
    "\n",
    "def get_day(conversation):\n",
    "    conversation[\"added\"] = pd.to_datetime(conversation.added)\n",
    "    conversation[\"day_added\"] = conversation.added.dt.date\n",
    "\n",
    "def booking_rate_df(conversation):\n",
    "    ''' Returns df with number of conversations, number of bookings, and booking rate per day. Index is the date'''\n",
    "    booking_rate = conversation.groupby(\"day_added\").count()[[\"added\", \"booked_at\"]].copy()\n",
    "    booking_rate[\"rate\"] = booking_rate[\"booked_at\"]/booking_rate[\"added\"]*100\n",
    "    return booking_rate\n",
    "    \n",
    "get_day(conversation)\n",
    "print(f\"Percentage of conversations leading to a booking: {percentage_booked(conversation)}\")\n",
    "booking_rate = booking_rate_df(conversation)\n",
    "last_90_days = booking_rate[-90:]\n"
   ]
  },
  {
   "cell_type": "code",
   "execution_count": 149,
   "metadata": {},
   "outputs": [
    {
     "data": {
      "text/plain": [
       "count    90.000000\n",
       "mean     42.665635\n",
       "std       6.772030\n",
       "min       4.929577\n",
       "25%      41.362503\n",
       "50%      43.757610\n",
       "75%      45.777778\n",
       "max      51.893939\n",
       "Name: rate, dtype: float64"
      ]
     },
     "execution_count": 149,
     "metadata": {},
     "output_type": "execute_result"
    }
   ],
   "source": [
    "last_90_days[\"rate\"].describe()"
   ]
  },
  {
   "cell_type": "markdown",
   "metadata": {},
   "source": [
    "The mean daily booking rate is 42.67% for the last 90 days (SD  = 6.77). We see that for the last 5 or so days the daily rate has been much lower, falling under the 25th percentile:"
   ]
  },
  {
   "cell_type": "code",
   "execution_count": 155,
   "metadata": {},
   "outputs": [
    {
     "name": "stdout",
     "output_type": "stream",
     "text": [
      "Booking rate for last 10 days:\n"
     ]
    },
    {
     "data": {
      "text/plain": [
       "day_added\n",
       "2018-07-23    49.822064\n",
       "2018-07-24    44.981413\n",
       "2018-07-25    46.048110\n",
       "2018-07-26    39.575972\n",
       "2018-07-27    43.508772\n",
       "2018-07-28    38.064516\n",
       "2018-07-29    31.086142\n",
       "2018-07-30    18.750000\n",
       "2018-07-31    12.418301\n",
       "2018-08-01     4.929577\n",
       "Name: rate, dtype: float64"
      ]
     },
     "execution_count": 155,
     "metadata": {},
     "output_type": "execute_result"
    }
   ],
   "source": [
    "print(\"Booking rate for last 10 days:\")\n",
    "last_90_days[\"rate\"][-10:]"
   ]
  },
  {
   "cell_type": "code",
   "execution_count": 179,
   "metadata": {},
   "outputs": [
    {
     "data": {
      "image/png": "[encoded data removed]",
      "text/plain": [
       "<Figure size 864x576 with 1 Axes>"
      ]
     },
     "metadata": {
      "needs_background": "light"
     },
     "output_type": "display_data"
    }
   ],
   "source": [
    "#keep datetime consistent between pandas and matplotlib\n",
    "register_matplotlib_converters()\n",
    "\n",
    "def create_reg_params(y):\n",
    "    x = np.arange(-len(y),0)\n",
    "    m, b = np.polyfit(x, y, 1)\n",
    "    return x,m,b\n",
    "\n",
    "def create_trendplot(fig, ax):\n",
    "    x1, m1, b1 = create_reg_params(last_90_days[\"rate\"])\n",
    "    x2, m2, b2 = create_reg_params(last_90_days[\"rate\"][:-4])\n",
    "\n",
    "    fig.suptitle(\"Booking trend over the last 90 days\")\n",
    "    \n",
    "    ax.set_xlabel(\"Days Past\")\n",
    "    ax.set_ylabel(\"Daily booking rate\")\n",
    "    ax.set_xticks(np.arange(-90,0,5))\n",
    "    \n",
    "    ax.plot(x1, last_90_days.rate);\n",
    "    ax.plot(x1, x1*m1 + b1, label = \"trend over last 90 days: %.2fx + %.2f\" %(m1,b1))\n",
    "    ax.plot(x2, x2*m2+b2, label = \"trend without last 4 days: %.2fx + %.2f\" %(m2,b2))\n",
    "    \n",
    "    ax.legend()\n",
    "    fig.show();\n",
    "\n",
    "fig, ax = plt.subplots(figsize = (12,8))\n",
    "create_trendplot(fig, ax)\n",
    "# calculate ave time to book"
   ]
  },
  {
   "cell_type": "markdown",
   "metadata": {},
   "source": [
    "There is a negative trend over the last 90 days (the orange line). It looks like this is because daily booking has dropped sharply over the last few days, but I suspect it's because users take many days to book. In fact, if we remove the last 5 days from the trend line calculation (the green line), then the booking rate remains constant.\n",
    "\n",
    "Let's investigate the average time it takes between starting a conversation and booking."
   ]
  },
  {
   "cell_type": "code",
   "execution_count": 143,
   "metadata": {},
   "outputs": [
    {
     "data": {
      "text/plain": [
       "count                      33466\n",
       "mean      3 days 04:12:51.861342\n",
       "std       1 days 18:49:29.653754\n",
       "min       0 days 00:15:54.006844\n",
       "25%       1 days 19:10:27.733077\n",
       "50%       2 days 22:16:06.020834\n",
       "75%       4 days 07:20:02.210654\n",
       "max      11 days 00:47:33.190898\n",
       "Name: time_to_booking, dtype: object"
      ]
     },
     "execution_count": 143,
     "metadata": {},
     "output_type": "execute_result"
    }
   ],
   "source": [
    "def time_taken_to_book(conversation):\n",
    "    conversation[\"booked_at\"] = pd.to_datetime(conversation.booked_at)\n",
    "    conversation[\"time_to_booking\"] = conversation[\"booked_at\"] - conversation[\"added\"]\n",
    "\n",
    "time_taken_to_book(conversation)\n",
    "conversation[\"time_to_booking\"].describe()"
   ]
  },
  {
   "cell_type": "markdown",
   "metadata": {},
   "source": [
    "Indeed, on average it takes 3 days and 4 hours before a conversation leads to a booking. The maximum time in our dataset was 11 days, and 75% of bookings occur within 4 days and 7 hours. So the downward trend in the last 4-5 days that we see here is probably just because the users who started conversations in the last few days have not yet had a chance to book. \n"
   ]
  },
  {
   "cell_type": "markdown",
   "metadata": {},
   "source": [
    "## Take rate\n",
    "We want to investigate the take rate (net revenue / gross billings). We'll answer the following questions:\n",
    "- In each month, what were the gross billings and net revenue?\n",
    "- What was the aggregate take rate per month?\n",
    "- If the take rate changed, why did it change?"
   ]
  },
  {
   "cell_type": "markdown",
   "metadata": {},
   "source": [
    "First we can calculate the different fees and the net revenue. The calculation details come from the instruction document. We'll need to get the services that were booked (and not cancelled) from the conversation table and join the relevant fields to the fees in the service table.\n",
    "\n",
    "**Note:** Different cancellation policies are given within the service table (moderate, strict, etc), but not information is given in the instruction on how these cancellation policies influence the amount that is refunded when someone cancels. For example, a last minute cancellation may result in no refund. Without the refund information, we'll assume that users were refunded in full if they cancelled and we will not add fees for those bookings to the net revenue or gross billings. Note that this is likely an underestimate of the company's net revenue and gross billings."
   ]
  },
  {
   "cell_type": "code",
   "execution_count": 157,
   "metadata": {},
   "outputs": [
    {
     "data": {
      "text/html": [
       "<div>\n",
       "<style scoped>\n",
       "    .dataframe tbody tr th:only-of-type {\n",
       "        vertical-align: middle;\n",
       "    }\n",
       "\n",
       "    .dataframe tbody tr th {\n",
       "        vertical-align: top;\n",
       "    }\n",
       "\n",
       "    .dataframe thead th {\n",
       "        text-align: right;\n",
       "    }\n",
       "</style>\n",
       "<table border=\"1\" class=\"dataframe\">\n",
       "  <thead>\n",
       "    <tr style=\"text-align: right;\">\n",
       "      <th></th>\n",
       "      <th>id</th>\n",
       "      <th>service_type</th>\n",
       "      <th>cancellation_policy</th>\n",
       "      <th>can_provide_oral_medication</th>\n",
       "      <th>can_provide_injected_medication</th>\n",
       "      <th>senior_dog_experience</th>\n",
       "      <th>special_needs_experience</th>\n",
       "      <th>takes_small_dogs</th>\n",
       "      <th>takes_medium_dogs</th>\n",
       "      <th>takes_large_dogs</th>\n",
       "      <th>...</th>\n",
       "      <th>max_dogs</th>\n",
       "      <th>provider_id</th>\n",
       "      <th>fee</th>\n",
       "      <th>price</th>\n",
       "      <th>added</th>\n",
       "      <th>owner_fee</th>\n",
       "      <th>gross_billing</th>\n",
       "      <th>service_fee</th>\n",
       "      <th>net_revenue</th>\n",
       "      <th>provider_payment</th>\n",
       "    </tr>\n",
       "  </thead>\n",
       "  <tbody>\n",
       "    <tr>\n",
       "      <th>0</th>\n",
       "      <td>1</td>\n",
       "      <td>boarding</td>\n",
       "      <td>strict</td>\n",
       "      <td>1</td>\n",
       "      <td>1</td>\n",
       "      <td>1</td>\n",
       "      <td>1</td>\n",
       "      <td>0</td>\n",
       "      <td>1</td>\n",
       "      <td>1</td>\n",
       "      <td>...</td>\n",
       "      <td>4</td>\n",
       "      <td>1</td>\n",
       "      <td>0.15</td>\n",
       "      <td>35</td>\n",
       "      <td>2016-08-02 14:59:15.095591</td>\n",
       "      <td>1.75</td>\n",
       "      <td>36.75</td>\n",
       "      <td>5.25</td>\n",
       "      <td>7.0</td>\n",
       "      <td>29.75</td>\n",
       "    </tr>\n",
       "    <tr>\n",
       "      <th>1</th>\n",
       "      <td>2</td>\n",
       "      <td>dog-walking</td>\n",
       "      <td>strict</td>\n",
       "      <td>1</td>\n",
       "      <td>0</td>\n",
       "      <td>1</td>\n",
       "      <td>1</td>\n",
       "      <td>0</td>\n",
       "      <td>0</td>\n",
       "      <td>1</td>\n",
       "      <td>...</td>\n",
       "      <td>5</td>\n",
       "      <td>1</td>\n",
       "      <td>0.15</td>\n",
       "      <td>26</td>\n",
       "      <td>2016-08-02 14:59:15.095591</td>\n",
       "      <td>1.30</td>\n",
       "      <td>27.30</td>\n",
       "      <td>3.90</td>\n",
       "      <td>5.2</td>\n",
       "      <td>22.10</td>\n",
       "    </tr>\n",
       "    <tr>\n",
       "      <th>2</th>\n",
       "      <td>3</td>\n",
       "      <td>boarding</td>\n",
       "      <td>moderate</td>\n",
       "      <td>0</td>\n",
       "      <td>0</td>\n",
       "      <td>1</td>\n",
       "      <td>0</td>\n",
       "      <td>0</td>\n",
       "      <td>0</td>\n",
       "      <td>1</td>\n",
       "      <td>...</td>\n",
       "      <td>2</td>\n",
       "      <td>2</td>\n",
       "      <td>0.15</td>\n",
       "      <td>31</td>\n",
       "      <td>2016-08-02 18:15:30.105940</td>\n",
       "      <td>1.55</td>\n",
       "      <td>32.55</td>\n",
       "      <td>4.65</td>\n",
       "      <td>6.2</td>\n",
       "      <td>26.35</td>\n",
       "    </tr>\n",
       "    <tr>\n",
       "      <th>3</th>\n",
       "      <td>4</td>\n",
       "      <td>dog-walking</td>\n",
       "      <td>strict</td>\n",
       "      <td>1</td>\n",
       "      <td>0</td>\n",
       "      <td>1</td>\n",
       "      <td>0</td>\n",
       "      <td>1</td>\n",
       "      <td>0</td>\n",
       "      <td>0</td>\n",
       "      <td>...</td>\n",
       "      <td>5</td>\n",
       "      <td>2</td>\n",
       "      <td>0.15</td>\n",
       "      <td>27</td>\n",
       "      <td>2016-08-02 18:15:30.105940</td>\n",
       "      <td>1.35</td>\n",
       "      <td>28.35</td>\n",
       "      <td>4.05</td>\n",
       "      <td>5.4</td>\n",
       "      <td>22.95</td>\n",
       "    </tr>\n",
       "    <tr>\n",
       "      <th>4</th>\n",
       "      <td>5</td>\n",
       "      <td>day-care</td>\n",
       "      <td>strict</td>\n",
       "      <td>1</td>\n",
       "      <td>0</td>\n",
       "      <td>1</td>\n",
       "      <td>1</td>\n",
       "      <td>0</td>\n",
       "      <td>1</td>\n",
       "      <td>1</td>\n",
       "      <td>...</td>\n",
       "      <td>5</td>\n",
       "      <td>2</td>\n",
       "      <td>0.15</td>\n",
       "      <td>30</td>\n",
       "      <td>2016-08-02 18:15:30.105940</td>\n",
       "      <td>1.50</td>\n",
       "      <td>31.50</td>\n",
       "      <td>4.50</td>\n",
       "      <td>6.0</td>\n",
       "      <td>25.50</td>\n",
       "    </tr>\n",
       "  </tbody>\n",
       "</table>\n",
       "<p>5 rows × 21 columns</p>\n",
       "</div>"
      ],
      "text/plain": [
       "   id service_type cancellation_policy  can_provide_oral_medication  \\\n",
       "0   1     boarding              strict                            1   \n",
       "1   2  dog-walking              strict                            1   \n",
       "2   3     boarding            moderate                            0   \n",
       "3   4  dog-walking              strict                            1   \n",
       "4   5     day-care              strict                            1   \n",
       "\n",
       "   can_provide_injected_medication  senior_dog_experience  \\\n",
       "0                                1                      1   \n",
       "1                                0                      1   \n",
       "2                                0                      1   \n",
       "3                                0                      1   \n",
       "4                                0                      1   \n",
       "\n",
       "   special_needs_experience  takes_small_dogs  takes_medium_dogs  \\\n",
       "0                         1                 0                  1   \n",
       "1                         1                 0                  0   \n",
       "2                         0                 0                  0   \n",
       "3                         0                 1                  0   \n",
       "4                         1                 0                  1   \n",
       "\n",
       "   takes_large_dogs  ...  max_dogs  provider_id   fee  price  \\\n",
       "0                 1  ...         4            1  0.15     35   \n",
       "1                 1  ...         5            1  0.15     26   \n",
       "2                 1  ...         2            2  0.15     31   \n",
       "3                 0  ...         5            2  0.15     27   \n",
       "4                 1  ...         5            2  0.15     30   \n",
       "\n",
       "                        added owner_fee  gross_billing  service_fee  \\\n",
       "0  2016-08-02 14:59:15.095591      1.75          36.75         5.25   \n",
       "1  2016-08-02 14:59:15.095591      1.30          27.30         3.90   \n",
       "2  2016-08-02 18:15:30.105940      1.55          32.55         4.65   \n",
       "3  2016-08-02 18:15:30.105940      1.35          28.35         4.05   \n",
       "4  2016-08-02 18:15:30.105940      1.50          31.50         4.50   \n",
       "\n",
       "   net_revenue  provider_payment  \n",
       "0          7.0             29.75  \n",
       "1          5.2             22.10  \n",
       "2          6.2             26.35  \n",
       "3          5.4             22.95  \n",
       "4          6.0             25.50  \n",
       "\n",
       "[5 rows x 21 columns]"
      ]
     },
     "execution_count": 157,
     "metadata": {},
     "output_type": "execute_result"
    }
   ],
   "source": [
    "def calculate_revenue_and_payment(service):\n",
    "    owner_fee_percentage = 0.05\n",
    "    service[\"owner_fee\"] = service[\"price\"]*owner_fee_percentage\n",
    "    service[\"gross_billing\"] = service[\"price\"] + service[\"owner_fee\"]\n",
    "    service[\"service_fee\"] = service[\"price\"]*service[\"fee\"]\n",
    "    service[\"net_revenue\"] = service[\"owner_fee\"] + service[\"service_fee\"]\n",
    "    service[\"provider_payment\"] = service[\"gross_billing\"] - service[\"net_revenue\"]\n",
    "    return service\n",
    "\n",
    "calculate_revenue_and_payment(service)\n",
    "service.head()"
   ]
  },
  {
   "cell_type": "markdown",
   "metadata": {},
   "source": [
    "Then, we want to get the total net revenue and gross billings per month, which means that we need to extract month from the date."
   ]
  },
  {
   "cell_type": "code",
   "execution_count": 224,
   "metadata": {},
   "outputs": [
    {
     "data": {
      "text/html": [
       "<div>\n",
       "<style scoped>\n",
       "    .dataframe tbody tr th:only-of-type {\n",
       "        vertical-align: middle;\n",
       "    }\n",
       "\n",
       "    .dataframe tbody tr th {\n",
       "        vertical-align: top;\n",
       "    }\n",
       "\n",
       "    .dataframe thead th {\n",
       "        text-align: right;\n",
       "    }\n",
       "</style>\n",
       "<table border=\"1\" class=\"dataframe\">\n",
       "  <thead>\n",
       "    <tr style=\"text-align: right;\">\n",
       "      <th></th>\n",
       "      <th>net_revenue</th>\n",
       "      <th>gross_billing</th>\n",
       "    </tr>\n",
       "    <tr>\n",
       "      <th>booked_month</th>\n",
       "      <th></th>\n",
       "      <th></th>\n",
       "    </tr>\n",
       "  </thead>\n",
       "  <tbody>\n",
       "    <tr>\n",
       "      <th>2016-08</th>\n",
       "      <td>101.40</td>\n",
       "      <td>532.35</td>\n",
       "    </tr>\n",
       "    <tr>\n",
       "      <th>2016-09</th>\n",
       "      <td>471.20</td>\n",
       "      <td>2473.80</td>\n",
       "    </tr>\n",
       "    <tr>\n",
       "      <th>2016-10</th>\n",
       "      <td>808.20</td>\n",
       "      <td>4243.05</td>\n",
       "    </tr>\n",
       "    <tr>\n",
       "      <th>2016-11</th>\n",
       "      <td>1228.80</td>\n",
       "      <td>6451.20</td>\n",
       "    </tr>\n",
       "    <tr>\n",
       "      <th>2016-12</th>\n",
       "      <td>1552.60</td>\n",
       "      <td>8151.15</td>\n",
       "    </tr>\n",
       "    <tr>\n",
       "      <th>2017-01</th>\n",
       "      <td>2048.00</td>\n",
       "      <td>10752.00</td>\n",
       "    </tr>\n",
       "    <tr>\n",
       "      <th>2017-02</th>\n",
       "      <td>2309.40</td>\n",
       "      <td>12124.35</td>\n",
       "    </tr>\n",
       "    <tr>\n",
       "      <th>2017-03</th>\n",
       "      <td>3386.00</td>\n",
       "      <td>17776.50</td>\n",
       "    </tr>\n",
       "    <tr>\n",
       "      <th>2017-04</th>\n",
       "      <td>3631.00</td>\n",
       "      <td>19062.75</td>\n",
       "    </tr>\n",
       "    <tr>\n",
       "      <th>2017-05</th>\n",
       "      <td>4308.90</td>\n",
       "      <td>22590.75</td>\n",
       "    </tr>\n",
       "    <tr>\n",
       "      <th>2017-06</th>\n",
       "      <td>5086.80</td>\n",
       "      <td>25935.00</td>\n",
       "    </tr>\n",
       "    <tr>\n",
       "      <th>2017-07</th>\n",
       "      <td>6049.70</td>\n",
       "      <td>29674.05</td>\n",
       "    </tr>\n",
       "    <tr>\n",
       "      <th>2017-08</th>\n",
       "      <td>6854.00</td>\n",
       "      <td>32946.90</td>\n",
       "    </tr>\n",
       "    <tr>\n",
       "      <th>2017-09</th>\n",
       "      <td>8011.35</td>\n",
       "      <td>37108.05</td>\n",
       "    </tr>\n",
       "    <tr>\n",
       "      <th>2017-10</th>\n",
       "      <td>9298.75</td>\n",
       "      <td>42913.50</td>\n",
       "    </tr>\n",
       "    <tr>\n",
       "      <th>2017-11</th>\n",
       "      <td>9438.40</td>\n",
       "      <td>43166.55</td>\n",
       "    </tr>\n",
       "    <tr>\n",
       "      <th>2017-12</th>\n",
       "      <td>10929.05</td>\n",
       "      <td>49528.50</td>\n",
       "    </tr>\n",
       "    <tr>\n",
       "      <th>2018-01</th>\n",
       "      <td>12375.95</td>\n",
       "      <td>55288.80</td>\n",
       "    </tr>\n",
       "    <tr>\n",
       "      <th>2018-02</th>\n",
       "      <td>11551.85</td>\n",
       "      <td>51358.65</td>\n",
       "    </tr>\n",
       "    <tr>\n",
       "      <th>2018-03</th>\n",
       "      <td>14153.10</td>\n",
       "      <td>62802.60</td>\n",
       "    </tr>\n",
       "    <tr>\n",
       "      <th>2018-04</th>\n",
       "      <td>15490.30</td>\n",
       "      <td>68008.50</td>\n",
       "    </tr>\n",
       "    <tr>\n",
       "      <th>2018-05</th>\n",
       "      <td>17362.10</td>\n",
       "      <td>76088.25</td>\n",
       "    </tr>\n",
       "    <tr>\n",
       "      <th>2018-06</th>\n",
       "      <td>18992.50</td>\n",
       "      <td>82756.80</td>\n",
       "    </tr>\n",
       "    <tr>\n",
       "      <th>2018-07</th>\n",
       "      <td>23142.55</td>\n",
       "      <td>100693.95</td>\n",
       "    </tr>\n",
       "    <tr>\n",
       "      <th>2018-08</th>\n",
       "      <td>1192.70</td>\n",
       "      <td>5154.45</td>\n",
       "    </tr>\n",
       "  </tbody>\n",
       "</table>\n",
       "</div>"
      ],
      "text/plain": [
       "              net_revenue  gross_billing\n",
       "booked_month                            \n",
       "2016-08            101.40         532.35\n",
       "2016-09            471.20        2473.80\n",
       "2016-10            808.20        4243.05\n",
       "2016-11           1228.80        6451.20\n",
       "2016-12           1552.60        8151.15\n",
       "2017-01           2048.00       10752.00\n",
       "2017-02           2309.40       12124.35\n",
       "2017-03           3386.00       17776.50\n",
       "2017-04           3631.00       19062.75\n",
       "2017-05           4308.90       22590.75\n",
       "2017-06           5086.80       25935.00\n",
       "2017-07           6049.70       29674.05\n",
       "2017-08           6854.00       32946.90\n",
       "2017-09           8011.35       37108.05\n",
       "2017-10           9298.75       42913.50\n",
       "2017-11           9438.40       43166.55\n",
       "2017-12          10929.05       49528.50\n",
       "2018-01          12375.95       55288.80\n",
       "2018-02          11551.85       51358.65\n",
       "2018-03          14153.10       62802.60\n",
       "2018-04          15490.30       68008.50\n",
       "2018-05          17362.10       76088.25\n",
       "2018-06          18992.50       82756.80\n",
       "2018-07          23142.55      100693.95\n",
       "2018-08           1192.70        5154.45"
      ]
     },
     "execution_count": 224,
     "metadata": {},
     "output_type": "execute_result"
    }
   ],
   "source": [
    "def get_revenue_table(conversation, service):\n",
    "    ''' Returns revenue table with relevant columns from conversation and service tables, joined on service_id'''\n",
    "    # get services booked and their date\n",
    "    relevant_cols = [\"requester_id\", \"service_id\", \"booked_at\", \"cancelled_at\"]\n",
    "    booked_services = conversation.loc[conversation.booked_at.notnull(), relevant_cols]\n",
    "    booked_not_cancelled = booked_services[booked_services.cancelled_at.isnull()]\n",
    "\n",
    "    # map to price for service\n",
    "    revenue = booked_not_cancelled.merge(service, how = \"left\", left_on = \"service_id\", right_on = \"id\")\n",
    "    revenue.head()\n",
    "\n",
    "    #get year & month\n",
    "    revenue[\"booked_month\"] = revenue.booked_at.dt.to_period('M')\n",
    "\n",
    "    revenue_cols = [\"service_id\", \"requester_id\", \"provider_id\", \"booked_at\", \"booked_month\", \"service_type\", \n",
    "                    \"cancellation_policy\", \"price\", \"fee\", \"owner_fee\", \"gross_billing\", \"service_fee\", \"net_revenue\", \"provider_payment\"]\n",
    "    return revenue[revenue_cols]\n",
    "\n",
    "def sum_by_month(revenue, col):\n",
    "    ''' Returns sum of col values by month'''\n",
    "    return revenue.groupby(\"booked_month\")[col].apply(lambda x: x.sum())\n",
    "\n",
    "\n",
    "revenue = get_revenue_table(conversation, service)\n",
    "financial_cols = [\"net_revenue\", \"gross_billing\"]\n",
    "monthly_vals = []\n",
    "\n",
    "for col in financial_cols:\n",
    "    monthly_vals.append(sum_by_month(revenue, col))\n",
    "\n",
    "monthly_data = pd.concat(monthly_vals, axis = 1)\n",
    "monthly_data"
   ]
  },
  {
   "cell_type": "markdown",
   "metadata": {},
   "source": [
    "Gross billing and net revenue have been growing month-over-month since 2016. Note that August 2018 represents only two days worth of data. August 2016 was also not a full month - service bookings start on August 13th."
   ]
  },
  {
   "cell_type": "code",
   "execution_count": 205,
   "metadata": {},
   "outputs": [
    {
     "name": "stdout",
     "output_type": "stream",
     "text": [
      "Start date: 2016-08-13 11:01:09.094354\n",
      "End date: 2018-08-02 10:17:16.280293\n"
     ]
    }
   ],
   "source": [
    "print(f\"Start date: {revenue.booked_at.min()}\")\n",
    "print(f\"End date: {revenue.booked_at.max()}\")"
   ]
  },
  {
   "cell_type": "markdown",
   "metadata": {},
   "source": [
    "Next, we'll look at the average take rate per month. We can see that the take rate has increased from 19% in the first year to 23% in the third year."
   ]
  },
  {
   "cell_type": "code",
   "execution_count": 225,
   "metadata": {},
   "outputs": [
    {
     "data": {
      "text/plain": [
       "booked_month\n",
       "2016-08    0.190476\n",
       "2016-09    0.190476\n",
       "2016-10    0.190476\n",
       "2016-11    0.190476\n",
       "2016-12    0.190476\n",
       "2017-01    0.190476\n",
       "2017-02    0.190476\n",
       "2017-03    0.190476\n",
       "2017-04    0.190476\n",
       "2017-05    0.190780\n",
       "2017-06    0.196100\n",
       "2017-07    0.204035\n",
       "2017-08    0.207830\n",
       "2017-09    0.215645\n",
       "2017-10    0.216526\n",
       "2017-11    0.218838\n",
       "2017-12    0.220620\n",
       "2018-01    0.223770\n",
       "2018-02    0.224751\n",
       "2018-03    0.225526\n",
       "2018-04    0.227825\n",
       "2018-05    0.228178\n",
       "2018-06    0.229406\n",
       "2018-07    0.229751\n",
       "2018-08    0.231554\n",
       "Freq: M, Name: take_rate, dtype: float64"
      ]
     },
     "execution_count": 225,
     "metadata": {},
     "output_type": "execute_result"
    }
   ],
   "source": [
    "def get_take_rate(revenue):\n",
    "    return revenue[\"net_revenue\"]/revenue[\"gross_billing\"]\n",
    "\n",
    "def calculate_monthly_average(revenue, col):\n",
    "    return revenue.groupby(\"booked_month\")[col].apply(lambda x: x.mean())\n",
    "\n",
    "#get average take rate by month\n",
    "revenue[\"take_rate\"] = get_take_rate(revenue)\n",
    "calculate_monthly_average(revenue, \"take_rate\")"
   ]
  },
  {
   "cell_type": "markdown",
   "metadata": {},
   "source": [
    "Why has take rate changed? Let's look at individual costs over time."
   ]
  },
  {
   "cell_type": "code",
   "execution_count": 264,
   "metadata": {},
   "outputs": [
    {
     "name": "stdout",
     "output_type": "stream",
     "text": [
      "               fee  owner_fee  service_fee  provider_payment  take_rate\n",
      "booked_month                                                           \n",
      "2016-08       0.15   1.408333     4.225000         23.941667   0.190476\n",
      "2016-09       0.15   1.419277     4.257831         24.127711   0.190476\n",
      "2016-10       0.15   1.422887     4.268662         24.189085   0.190476\n",
      "2016-11       0.15   1.353304     4.059912         23.006167   0.190476\n",
      "2016-12       0.15   1.371555     4.114664         23.316431   0.190476\n",
      "                   fee  owner_fee  service_fee  provider_payment  take_rate\n",
      "booked_month                                                               \n",
      "2018-04       0.189216   1.372246     5.191441         22.253475   0.227825\n",
      "2018-05       0.189587   1.371924     5.202139         22.236331   0.228178\n",
      "2018-06       0.190876   1.375017     5.251814         22.248535   0.229406\n",
      "2018-07       0.191238   1.377463     5.270784         22.278483   0.229751\n",
      "2018-08       0.193132   1.348626     5.204670         21.767857   0.231554\n"
     ]
    }
   ],
   "source": [
    "billing_cols = [\"fee\", \"owner_fee\", \"service_fee\", \"provider_payment\", \"take_rate\"]\n",
    "monthly_averages = []\n",
    "\n",
    "for col in billing_cols:\n",
    "    monthly_averages.append(calculate_monthly_average(revenue, col))\n",
    "\n",
    "monthly_average_df = pd.concat(monthly_averages, axis = 1)\n",
    "print(monthly_average_df.head())\n",
    "print(monthly_average_df.tail())"
   ]
  },
  {
   "cell_type": "code",
   "execution_count": 261,
   "metadata": {},
   "outputs": [
    {
     "data": {
      "text/plain": [
       "Text(0, 0.5, 'USD')"
      ]
     },
     "execution_count": 261,
     "metadata": {},
     "output_type": "execute_result"
    },
    {
     "data": {
      "image/png": "[encoded data removed]",
      "text/plain": [
       "<Figure size 432x288 with 1 Axes>"
      ]
     },
     "metadata": {
      "needs_background": "light"
     },
     "output_type": "display_data"
    }
   ],
   "source": [
    "fig, ax = plt.subplots()\n",
    "fig.suptitle(\"Changes in billing structure and fees\")\n",
    "x = np.arange(len(monthly_average_df.index))\n",
    "for col in billing_cols:\n",
    "    ax.plot(x, monthly_average_df[col], label = col)\n",
    "\n",
    "ax.legend()\n",
    "ax.set_ylabel(\"USD\")\n",
    "# ax.set_xticks(monthly_average_df.index)"
   ]
  },
  {
   "cell_type": "markdown",
   "metadata": {},
   "source": [
    "We can see that fee rate has increased from 15% to 19%, and hence the overall service fees have increased. This is likely the cause of the increasing take rates. We can calculate a correlation coefficient to test this hypothesis."
   ]
  },
  {
   "cell_type": "code",
   "execution_count": 262,
   "metadata": {},
   "outputs": [
    {
     "data": {
      "text/plain": [
       "(0.9929009165129259, 8.955999088216333e-23)"
      ]
     },
     "execution_count": 262,
     "metadata": {},
     "output_type": "execute_result"
    }
   ],
   "source": [
    "from scipy.stats import pearsonr\n",
    "pearsonr(monthly_average_df.take_rate, monthly_average_df.fee)"
   ]
  },
  {
   "cell_type": "markdown",
   "metadata": {},
   "source": [
    "There is a very strong positive correlation between take rate and fee rate (r = 0.99, p < 0.001)."
   ]
  },
  {
   "cell_type": "markdown",
   "metadata": {},
   "source": [
    "## Conversation Flow AB test"
   ]
  },
  {
   "cell_type": "markdown",
   "metadata": {},
   "source": [
    "## Search Engine Marketing\n",
    "- estimate how many users would have been aquired at old rate\n",
    "- calculate cost per user "
   ]
  },
  {
   "cell_type": "code",
   "execution_count": 4,
   "metadata": {},
   "outputs": [
    {
     "name": "stdout",
     "output_type": "stream",
     "text": [
      "conversations_conversation.csv\t     people_person.csv\r\n",
      "conversations_conversation_pets.csv  people_testsegmentation.csv\r\n",
      "conversations_message.csv\t     pets_pet.csv\r\n",
      "conversations_review.csv\t     services_service.csv\r\n"
     ]
    }
   ],
   "source": []
  },
  {
   "cell_type": "code",
   "execution_count": null,
   "metadata": {},
   "outputs": [],
   "source": []
  }
 ],
 "metadata": {
  "kernelspec": {
   "display_name": "Python 3",
   "language": "python",
   "name": "python3"
  },
  "language_info": {
   "codemirror_mode": {
    "name": "ipython",
    "version": 3
   },
   "file_extension": ".py",
   "mimetype": "text/x-python",
   "name": "python",
   "nbconvert_exporter": "python",
   "pygments_lexer": "ipython3",
   "version": "3.7.5"
  }
 },
 "nbformat": 4,
 "nbformat_minor": 2
}
